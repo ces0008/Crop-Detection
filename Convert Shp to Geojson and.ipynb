{
 "cells": [
  {
   "cell_type": "code",
   "execution_count": 1,
   "metadata": {},
   "outputs": [],
   "source": [
    "import shapefile\n",
    "from json import dumps\n",
    "import json\n",
    "from pathlib import Path"
   ]
  },
  {
   "cell_type": "code",
   "execution_count": 2,
   "metadata": {},
   "outputs": [],
   "source": [
    "path = Path.cwd()/'main'/'Lands' # the path to work with"
   ]
  },
  {
   "cell_type": "code",
   "execution_count": 3,
   "metadata": {},
   "outputs": [],
   "source": [
    "def shp_to_geo(path: Path) -> None:\n",
    "    \"\"\" Gets a path of shp data file and write the geojson data in the same path\n",
    "    \n",
    "    Parameters\n",
    "    ----------\n",
    "    path: pathlib.Path\n",
    "        path of .shp of each land\n",
    "    \n",
    "    Returns\n",
    "    ---------\n",
    "    None\n",
    "        Outputs to the geo.json in the same path\n",
    "        \"\"\"    \n",
    "    reader = shapefile.Reader(path.as_posix(), encoding=\"UTF-8\")\n",
    "    fields = reader.fields[1:]\n",
    "    field_names = [field[0] for field in fields]\n",
    "\n",
    "    buffer = []\n",
    "    i = 1\n",
    "    for sr in reader.shapeRecords():\n",
    "        atr = dict(zip(field_names, sr.record))\n",
    "        geom = sr.shape.__geo_interface__\n",
    "        buffer.append(dict(type=\"Feature\", geometry=geom, properties=atr))\n",
    "        i += 1\n",
    "\n",
    "    # write the GeoJSON file\n",
    "    geojson = open(path.parent.as_posix()+'/geo.json', \"w\")\n",
    "    geojson.write(dumps({\"type\": \"FeatureCollection\", \"features\": buffer}, indent=2) + \"\\n\")\n",
    "    geojson.close()"
   ]
  },
  {
   "cell_type": "code",
   "execution_count": 4,
   "metadata": {},
   "outputs": [],
   "source": [
    "def json_to_poly(path: Path) -> None:\n",
    "    \"\"\" Gets a path of geojson data file and write the polygon data in the same path\n",
    "    \n",
    "    Parameters\n",
    "    ----------\n",
    "    path: pathlib.Path\n",
    "        path of geo.json of .shp in the same path of .shp\n",
    "    \n",
    "    Returns\n",
    "    ---------\n",
    "    None\n",
    "        Outputs to the polygon.json in the same path\n",
    "        \"\"\"\n",
    "    final_list = []\n",
    "    cor_list = []\n",
    "    json_path = open(path.parent.as_posix()+'/geo.json')\n",
    "    json_file = json.load(json_path)\n",
    "\n",
    "    for item in json_file['features']:\n",
    "        for index in item['geometry']['coordinates'][0]:\n",
    "            cor_list.append([index[1], index[0]])\n",
    "            print(cor_list)\n",
    "        coordinate = str([cor_list])\n",
    "        print(coordinate)\n",
    "        polygon = 'POLYGON(({}))'.format(\n",
    "            coordinate.replace('[', '').replace(',', '').replace('] ', ',').replace(']]]', ''))\n",
    "        final_list.append(polygon)\n",
    "        print(final_list)\n",
    "        cor_list = []\n",
    "\n",
    "    geojson = open(path.parent.as_posix()+'/polygon.json',\"w\")\n",
    "    geojson.write(json.dumps({\"polygons\": final_list}, indent=2) + \"\\n\")\n",
    "    geojson.close()"
   ]
  },
  {
   "cell_type": "code",
   "execution_count": 5,
   "metadata": {
    "scrolled": true
   },
   "outputs": [],
   "source": [
    "def shp_to_geo_and_poly(): # Convert every .shp file to geo.json and poly.json in the same path\n",
    "    sh_paths = [p for p in path.glob('**/*.shp')]\n",
    "    for p in sh_paths:\n",
    "        shp_to_geo(p)\n",
    "        json_to_poly(p)"
   ]
  },
  {
   "cell_type": "code",
   "execution_count": 6,
   "metadata": {},
   "outputs": [],
   "source": [
    "shp_to_geo_and_poly() # Run the function and Do the job!"
   ]
  },
  {
   "cell_type": "code",
   "execution_count": null,
   "metadata": {},
   "outputs": [],
   "source": []
  }
 ],
 "metadata": {
  "kernelspec": {
   "display_name": "tea",
   "language": "python",
   "name": "tea"
  },
  "language_info": {
   "codemirror_mode": {
    "name": "ipython",
    "version": 3
   },
   "file_extension": ".py",
   "mimetype": "text/x-python",
   "name": "python",
   "nbconvert_exporter": "python",
   "pygments_lexer": "ipython3",
   "version": "3.8.5"
  }
 },
 "nbformat": 4,
 "nbformat_minor": 4
}
