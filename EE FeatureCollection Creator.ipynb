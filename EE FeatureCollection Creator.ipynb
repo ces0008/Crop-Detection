{
 "cells": [
  {
   "cell_type": "code",
   "execution_count": 11,
   "metadata": {},
   "outputs": [],
   "source": [
    "import json     \n",
    "from pathlib import Path"
   ]
  },
  {
   "cell_type": "code",
   "execution_count": 12,
   "metadata": {},
   "outputs": [],
   "source": [
    "main_path= Path.cwd()/'main'     # path object refers to main project assets < every files goes under this path\n",
    "bu_path  = main_path/'lands'/'BU'     # path object refers to Building Crop folder\n",
    "for_path = main_path/'lands'/'FOR'    # path object refers to Forest Crop folder   \n",
    "pf_path  = main_path/'lands'/'PF'     # path object refers to Paddys Crop folder\n",
    "tea_path = main_path/'lands'/'TEA'    # path object refers to Tea Crop folder"
   ]
  },
  {
   "cell_type": "code",
   "execution_count": 13,
   "metadata": {},
   "outputs": [],
   "source": [
    "template = open((main_path/'other').as_posix()+'/template.json')  #  read json template, used as input in Earth Engine"
   ]
  },
  {
   "cell_type": "code",
   "execution_count": 14,
   "metadata": {},
   "outputs": [],
   "source": [
    "def get_list_of_land_folder(crop_path: Path)-> list:\n",
    "    \"\"\"Gets and returns path of each land folder\n",
    "\n",
    "    Parameters\n",
    "    ----------\n",
    "    land_path : pathlib.Path\n",
    "        The Path object varable which holds path of Crop folder. e.g. forest folder, tea folder, ... \n",
    "    \n",
    "\n",
    "    Returns\n",
    "    -------\n",
    "    list\n",
    "        a list of paths representing the path of each individual land folder of each main type \n",
    "    \"\"\"\n",
    "    list_of_lands = [p for p in crop_path.glob('**/*') if (p.is_dir() and p.stem.isnumeric())]\n",
    "    list_of_lands.sort()\n",
    "    return list_of_lands"
   ]
  },
  {
   "cell_type": "code",
   "execution_count": 15,
   "metadata": {},
   "outputs": [],
   "source": [
    "def write_feature_collection_for_each_crop(path: Path):\n",
    "    template = open((main_path/'other').as_posix()+'/template.json')\n",
    "    template_json = json.load(template)\n",
    "    template.close()\n",
    "    for i,p in enumerate(get_list_of_land_folder(path)):\n",
    "        geo_file = open(p/'geo.json')\n",
    "        geo_json = json.load(geo_file)\n",
    "        geo_file.close()\n",
    "        tmp = geo_json['features'][0]\n",
    "        tmp['id'] = str(i)\n",
    "        template_json['features'].append(tmp)\n",
    "    crop_fc = open(path.as_posix()+'/'+str(path.stem)+'.json', \"w\")\n",
    "    crop_fc.write(json.dumps(template_json, indent=2) + \"\\n\")\n",
    "    crop_fc.close()"
   ]
  },
  {
   "cell_type": "code",
   "execution_count": 16,
   "metadata": {},
   "outputs": [],
   "source": [
    "list_of_crops = [tea_path, bu_path, pf_path, for_path]\n"
   ]
  },
  {
   "cell_type": "code",
   "execution_count": 17,
   "metadata": {},
   "outputs": [],
   "source": [
    "write_feature_collection_for_each_crop(list_of_crops[0])\n",
    "write_feature_collection_for_each_crop(list_of_crops[1])\n",
    "write_feature_collection_for_each_crop(list_of_crops[2])\n",
    "write_feature_collection_for_each_crop(list_of_crops[3])"
   ]
  },
  {
   "cell_type": "code",
   "execution_count": null,
   "metadata": {},
   "outputs": [],
   "source": []
  }
 ],
 "metadata": {
  "kernelspec": {
   "display_name": "Python 3",
   "language": "python",
   "name": "python3"
  },
  "language_info": {
   "codemirror_mode": {
    "name": "ipython",
    "version": 3
   },
   "file_extension": ".py",
   "mimetype": "text/x-python",
   "name": "python",
   "nbconvert_exporter": "python",
   "pygments_lexer": "ipython3",
   "version": "3.8.5"
  }
 },
 "nbformat": 4,
 "nbformat_minor": 2
}
